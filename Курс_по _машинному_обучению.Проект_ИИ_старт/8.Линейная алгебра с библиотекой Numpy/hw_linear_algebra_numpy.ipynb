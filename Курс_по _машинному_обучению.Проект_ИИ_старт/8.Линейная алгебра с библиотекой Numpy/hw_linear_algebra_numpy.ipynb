{
  "nbformat": 4,
  "nbformat_minor": 0,
  "metadata": {
    "colab": {
      "provenance": []
    },
    "kernelspec": {
      "name": "python3",
      "display_name": "Python 3"
    },
    "language_info": {
      "name": "python"
    }
  },
  "cells": [
    {
      "cell_type": "markdown",
      "source": [
        "# Домашнее задание. Линейная алгебра и библиотека NumPy\n",
        "В этом домашнем задании вам предстоит самостоятельно реализовать линейно-алгебраические операции с помощью чистого Python, а затем попрактиковаться в использовании уже готовых реализаций из numpy. Кроме того, вы сравните время работы вашей реализации с реализацией из библиотеки NumPy и убедитесь, что скорость работы \"коробочных\" реализаций выше."
      ],
      "metadata": {
        "id": "8HLE1cJ9k6HW"
      }
    },
    {
      "cell_type": "code",
      "metadata": {
        "id": "YEJ8DQ4QK7kx"
      },
      "source": [
        "import numpy as np\n",
        "import random\n",
        "import scipy.stats as sps"
      ],
      "execution_count": 38,
      "outputs": []
    },
    {
      "cell_type": "markdown",
      "metadata": {
        "id": "BCemQSq-aEbO"
      },
      "source": [
        "## Задание 1\n",
        "Вам подаются на вход два вектора `a` и `b` в трехмерном пространстве. Заполните их случайными числами. Реализуйте их скалярное произведение с помощью  `NumPy` и без. Засеките время работы, как это показано в заданиях выше."
      ]
    },
    {
      "cell_type": "code",
      "metadata": {
        "id": "lWhr_gPSZ9o_",
        "colab": {
          "base_uri": "https://localhost:8080/"
        },
        "outputId": "78800ae7-d578-4649-c233-0d3d72239185"
      },
      "source": [
        "a = np.random.sample((1, 3))\n",
        "a = list(a)[0]\n",
        "b = np.random.sample((1, 3))\n",
        "b = list(b)[0]\n",
        "print(a, b)"
      ],
      "execution_count": null,
      "outputs": [
        {
          "output_type": "stream",
          "name": "stdout",
          "text": [
            "<class 'numpy.ndarray'> [0.25517625 0.34595235 0.36132484]\n"
          ]
        }
      ]
    },
    {
      "cell_type": "code",
      "metadata": {
        "id": "GjlkcHIWZ_ae"
      },
      "source": [
        "def scalar_product(a, b):\n",
        "    \"\"\"  \n",
        "    a: np.array[, n] --- первая матрица-аргумент длиной n\n",
        "    b: np.array[, n] --- вторая матрица-аргумент длиной n\n",
        "    return c: float  --- результат скалярного произведения векторов a и b\n",
        "\n",
        "    Функция принимает на вход два вектора длиной n\n",
        "    Возвращает число, равное их скалярному произведению a x b = c \n",
        "\n",
        "    Реализуйте скалярное умножение векторов, не используя функции из пакета numpy\n",
        "\n",
        "    \"\"\" \n",
        "    pass"
      ],
      "execution_count": null,
      "outputs": []
    },
    {
      "cell_type": "code",
      "metadata": {
        "id": "C2M-OAp5Z_6a"
      },
      "source": [
        "def np_scalar_product(a,b):\n",
        "    \"\"\"  \n",
        "    a: np.array[, n] --- первая матрица-аргумент\n",
        "    b: np.array[, n] --- вторая матрица-аргумент\n",
        "    return c: float  --- результат скалярного произведения векторов a и b\n",
        "\n",
        "    Функция принимает на вход два вектора длиной n\n",
        "    Возвращает число, равное их скалярному произведению a x b = c \n",
        "\n",
        "    Реализуйте скалярное умножение векторов, используя функции из пакета numpy\n",
        "    \"\"\" \n",
        "    pass"
      ],
      "execution_count": null,
      "outputs": []
    },
    {
      "cell_type": "code",
      "metadata": {
        "id": "BOQfYf-2aCQJ",
        "scrolled": true
      },
      "source": [
        "%time product_1 = scalar_product(a,b)\n",
        "%time product_2 = np_scalar_product(a,b)\n",
        "\n",
        "# проверим корректность:\n",
        "assert np.allclose(product_1, product_2)"
      ],
      "execution_count": null,
      "outputs": []
    },
    {
      "cell_type": "markdown",
      "metadata": {
        "id": "hYXhVX0eK7k2"
      },
      "source": [
        "## Задание 2\n",
        "Вам предлагается перемножить две квадратные матрицы двумя способами -- без использования пакета `numpy` и с ним."
      ]
    },
    {
      "cell_type": "code",
      "metadata": {
        "id": "zJR8EANzK7k3",
        "colab": {
          "base_uri": "https://localhost:8080/"
        },
        "outputId": "2f85a0d3-be9d-411b-c35f-09590130f3c9"
      },
      "source": [
        "# Для генерации матриц используем фукнцию random -- она используется для генерации случайных объектов \n",
        "# функция sample создает случайную выборку. В качестве аргумента ей передается кортеж (i,j),  \n",
        "# здесь i -- число строк, j -- число столбцов.\n",
        "a = np.random.sample((100, 100))\n",
        "b = np.random.sample((100, 100))\n",
        "\n",
        "# Выведите размерность (ранг) каждой матрицы с помощью функции ndim.\n",
        "# Используйте функцию shape, что она вывела?\n",
        "\n",
        "# ========\n",
        "# Ваш код здесь\n",
        "# ========\n",
        "print(a)\n",
        "print(b)"
      ],
      "execution_count": null,
      "outputs": [
        {
          "output_type": "stream",
          "name": "stdout",
          "text": [
            "[[0.395839   0.21379428 0.07247983 ... 0.64980615 0.64291476 0.32526086]\n",
            " [0.99447693 0.63253878 0.10648252 ... 0.09038331 0.08219018 0.63331995]\n",
            " [0.03470463 0.83264811 0.00266264 ... 0.41459466 0.20456353 0.88582864]\n",
            " ...\n",
            " [0.6902504  0.10926463 0.64770747 ... 0.7091193  0.19629277 0.9975028 ]\n",
            " [0.64204202 0.65320852 0.35489944 ... 0.00704072 0.78367391 0.59237454]\n",
            " [0.84137914 0.89991396 0.55261748 ... 0.3186097  0.48761123 0.91937383]]\n",
            "[[0.19223844 0.02409304 0.41697875 ... 0.2896223  0.03328157 0.64914984]\n",
            " [0.59910385 0.40862453 0.40050159 ... 0.89650084 0.46264964 0.90442002]\n",
            " [0.87800265 0.28263125 0.82332552 ... 0.71561631 0.51356527 0.58747008]\n",
            " ...\n",
            " [0.83887046 0.24098338 0.29652699 ... 0.75683419 0.17818834 0.37654114]\n",
            " [0.26376756 0.33976523 0.95381248 ... 0.8179511  0.18956817 0.70542156]\n",
            " [0.02341907 0.56668502 0.53320765 ... 0.52531754 0.27821011 0.91949749]]\n"
          ]
        }
      ]
    },
    {
      "cell_type": "code",
      "metadata": {
        "id": "bkWCI4TPK7k8"
      },
      "source": [
        "def mult(a, b):\n",
        "    \"\"\"  \n",
        "    a: list of \"size\" lists, each contains \"size\" floats --- первая матрица-аргумент\n",
        "    b: list of \"size\" lists, each contains \"size\" floats --- вторая матрица-аргумент\n",
        "    return c: list of \"size\" lists, each contains \"size\" floats --- матрица, являющаяся результатом умножения матриц a и b\n",
        "    \n",
        "    Функция принимает на вход две матрицы: a и b размерностью size x size\n",
        "    Возвращает матрицу их произведения a * b = c \n",
        "\n",
        "    Реализуйте умножение матриц без использования функций из пакета numpy\n",
        "    \"\"\"\n",
        "    pass"
      ],
      "execution_count": null,
      "outputs": []
    },
    {
      "cell_type": "code",
      "metadata": {
        "id": "IIgYD1W5K7lB"
      },
      "source": [
        "def np_mult(a, b):\n",
        "    \"\"\"  \n",
        "    a: np.array[size, size]              --- первая матрица-аргумент\n",
        "    b: np.array[size, size]              --- вторая матрица-аргумент\n",
        "    return c: np.array[size, size]       --- матрица, являющаяся результатом умножения матриц a и b\n",
        "    \n",
        "    Функция принимает на вход две матрицы: a и b размерностью size x size\n",
        "    Возвращает матрицу их произведения a * b = c \n",
        "\n",
        "    Реализуйте умножение матриц, используя функции из пакета numpy\n",
        "    \"\"\"\n",
        "    pass"
      ],
      "execution_count": null,
      "outputs": []
    },
    {
      "cell_type": "code",
      "metadata": {
        "id": "tktkYzUHK7lE"
      },
      "source": [
        "%%time\n",
        "# засечем время работы функции без NumPy\n",
        "M1 = mult(a, b)"
      ],
      "execution_count": null,
      "outputs": []
    },
    {
      "cell_type": "code",
      "metadata": {
        "id": "TmD0adgHK7lK"
      },
      "source": [
        "%%time\n",
        "# засечем время работы функции с NumPy\n",
        "M2 = np_mult(a, b)"
      ],
      "execution_count": null,
      "outputs": []
    },
    {
      "cell_type": "code",
      "metadata": {
        "id": "oftqyANQK7lS"
      },
      "source": [
        "# проверим корректность\n",
        "assert np.allclose(np.array(M1), M2)"
      ],
      "execution_count": null,
      "outputs": []
    },
    {
      "cell_type": "markdown",
      "source": [
        "## Задание 3\n",
        "Постановка задачи линейной регрессии, о которой мы будем говорить в следующих модулях, выглядит так.\n",
        "\n",
        "**Дано**: матрица $X$ размера $\\ell \\times n$ и вектор $y$ размерности $\\ell$. \n",
        "\n",
        "**Необходимо**: подобрать вектор $w$ размерности $n$, для которого выражение $||Xw - y||^2_2$ будет минимально возможным, где $||a||_2^2$ --- квадрат нормы вектора $a$, то есть сумма квадратов компонент вектора $a$.\n",
        "\n",
        "Даны матрица $X$ и векторы $w$, $y$. Напишите функцию, которая находит значение выражения $||Xw - y||^2_2$. Используйте библиотеку `numpy` и ее встроенные функции. Предлагаем вам загуглить, как вычислять норму вектора с помощью `numpy`. **Следите за правильными размерностями при применении линейно-алгебраических операций!**"
      ],
      "metadata": {
        "id": "EVZ5Hl12mHrR"
      }
    },
    {
      "cell_type": "code",
      "source": [
        "def calculate_loss_function(X, w, y):\n",
        "    #YOUR CODE\n",
        "\n",
        "    return np.linalg.norm(X @ w - y)**2"
      ],
      "metadata": {
        "id": "PymsXAMCmHDr"
      },
      "execution_count": 39,
      "outputs": []
    },
    {
      "cell_type": "code",
      "source": [
        "# test\n",
        "X = np.array([1,2,3,4,5,6]).reshape(3, 2)\n",
        "w = np.array([0.5, -1.2])\n",
        "y = np.array([2, -1, 0])\n",
        "\n",
        "assert np.allclose(calculate_loss_function(X, w, y), 42.58999999999999)"
      ],
      "metadata": {
        "id": "Cb1kDQTDmB98"
      },
      "execution_count": 40,
      "outputs": []
    },
    {
      "cell_type": "markdown",
      "source": [
        "## Задание 4\n",
        "В случае, если ранг матрицы $X$ превосходит $n$, минимальное значение выражения $||Xw - y||^2_2$ при данных $X$ и $y$ достигается на векторе $$w^{*} = (X^{\\top}X)^{-1}X^{\\top}y.$$ \n",
        "\n",
        "Даны матрица $X$ размера $\\ell \\times n$ и вектор $y$ размера $\\ell$. Вычислите значение выражения $W^{*}$ по формуле, указанной выше. Используйте встроенные матричные операции в `numpy`: матричное произведение, транспонирование, вычисление обратной матрицы. Верните на выход одномерный np.array. **Следите за правильными размерностями при применении линейно-алгебраических операций!**"
      ],
      "metadata": {
        "id": "lZW2h1aepDIy"
      }
    },
    {
      "cell_type": "code",
      "source": [
        "def solve_linear_regression(X, y):\n",
        "    #YOUR_CODE\n",
        "    w_opt = np.linalg.inv(X.T @ X) @ X.T @ y\n",
        "    \n",
        "    return w_opt"
      ],
      "metadata": {
        "id": "vgGZLWQ0q-wr"
      },
      "execution_count": 41,
      "outputs": []
    },
    {
      "cell_type": "code",
      "source": [
        "#test\n",
        "X = np.array([1,2,3,4,5,6]).reshape(3, 2)\n",
        "y = np.array([2, -1, 0])\n",
        "\n",
        "assert np.allclose(solve_linear_regression(X, y), np.array([-2.33333333,  1.83333333]))\n"
      ],
      "metadata": {
        "id": "M-r5ac1yrFYB"
      },
      "execution_count": 42,
      "outputs": []
    },
    {
      "cell_type": "code",
      "source": [],
      "metadata": {
        "id": "KuB2uw4szn3M"
      },
      "execution_count": null,
      "outputs": []
    }
  ]
}