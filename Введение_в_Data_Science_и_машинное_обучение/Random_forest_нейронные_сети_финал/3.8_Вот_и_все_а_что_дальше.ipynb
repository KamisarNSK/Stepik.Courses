{
 "cells": [
  {
   "cell_type": "markdown",
   "metadata": {},
   "source": [
    "# 3.8 Вот и все, а что дальше?"
   ]
  },
  {
   "cell_type": "markdown",
   "metadata": {},
   "source": [
    "#### Помимо sklearn есть множество других библиотек для ML со своими возможностями. Некоторые из них сложнее, некоторые проще.\n",
    "\n",
    "\n",
    "\n",
    "Краткое перечисление:\n",
    "\n",
    "    pytorch https://pytorch.org/\n",
    "    keras https://keras.io/\n",
    "    theano http://deeplearning.net/software/theano/introduction.html\n",
    "    TensorFlow https://www.tensorflow.org/\n",
    "    Caffe https://caffe.berkeleyvision.org/\n",
    "    xgboost https://xgboost.readthedocs.io/en/latest/\n"
   ]
  },
  {
   "cell_type": "markdown",
   "metadata": {},
   "source": [
    "##### Ну а также практикуйтесь, ведь для этого есть отличная площадка - Kaggle. \n",
    "https://www.kaggle.com/\n",
    "Там содержится множество датасэтов, соревнований по машинному обучению с призами и kernel'ы, в которых можно узнать много нового.\n",
    "\n",
    "А также ссылка на перечень ресурсов с данными, которые можно использовать.\n",
    "https://www.dataquest.io/blog/free-datasets-for-projects/"
   ]
  },
  {
   "cell_type": "code",
   "execution_count": null,
   "metadata": {},
   "outputs": [],
   "source": []
  }
 ],
 "metadata": {
  "kernelspec": {
   "display_name": "Python 3",
   "language": "python",
   "name": "python3"
  },
  "language_info": {
   "codemirror_mode": {
    "name": "ipython",
    "version": 3
   },
   "file_extension": ".py",
   "mimetype": "text/x-python",
   "name": "python",
   "nbconvert_exporter": "python",
   "pygments_lexer": "ipython3",
   "version": "3.7.3"
  }
 },
 "nbformat": 4,
 "nbformat_minor": 4
}
