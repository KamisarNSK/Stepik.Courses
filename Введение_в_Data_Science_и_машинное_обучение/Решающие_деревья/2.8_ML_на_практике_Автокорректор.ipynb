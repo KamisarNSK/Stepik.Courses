{
 "cells": [
  {
   "cell_type": "markdown",
   "metadata": {},
   "source": [
    "# 2.8 ML на практике - Автокорректор"
   ]
  },
  {
   "cell_type": "markdown",
   "metadata": {},
   "source": [
    "https://www.youtube.com/redirect?event=comments&redir_token=QUFFLUhqbXhCaUZ2UkRFUW5YYjBKV2VGNFRpOTNHWXVqQXxBQ3Jtc0tsYy1PZE5JRXpadEZjUEEwMnczanJqRkg3QldzUkFFLWxRUGdERWl3d1Z6aXRyQVhvOVZfNVFDQ3lWY1BYd0NYS1ZsLWJMTDlaUUhMalp6bmFsMWJaVHF0Z0xYUUhtN05jeFJiYnU0TjZWX0xOLVZaaw%3D%3D&stzid=UgwCdj21Gm3aBrATTBB4AaABAg.9IPcSHT2iFI9IjICdQVXQx&q=https%3A%2F%2Fgithub.com%2Fpileyan%2Fwebinar_spellchecker%2Fblob%2Fmaster%2Fspellchecker_norvig%252B%252B.ipynb"
   ]
  },
  {
   "cell_type": "code",
   "execution_count": null,
   "metadata": {},
   "outputs": [],
   "source": []
  }
 ],
 "metadata": {
  "kernelspec": {
   "display_name": "Python 3",
   "language": "python",
   "name": "python3"
  },
  "language_info": {
   "codemirror_mode": {
    "name": "ipython",
    "version": 3
   },
   "file_extension": ".py",
   "mimetype": "text/x-python",
   "name": "python",
   "nbconvert_exporter": "python",
   "pygments_lexer": "ipython3",
   "version": "3.7.3"
  }
 },
 "nbformat": 4,
 "nbformat_minor": 4
}
