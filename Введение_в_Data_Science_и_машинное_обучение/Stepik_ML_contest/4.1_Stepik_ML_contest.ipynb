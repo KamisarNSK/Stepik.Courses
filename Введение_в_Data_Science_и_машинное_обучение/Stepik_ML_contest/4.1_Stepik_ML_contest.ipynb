{
 "cells": [
  {
   "cell_type": "markdown",
   "metadata": {},
   "source": [
    "# 4.1 Stepik ML contest"
   ]
  },
  {
   "cell_type": "markdown",
   "metadata": {},
   "source": [
    "# Мы начинаем соревнование! \n",
    "\n",
    "Задача нам уже знакома - нужно предсказать, сможет ли пользователь успешно закончить онлайн курс Анализ данных в R.\n",
    "\n",
    "Мы будем считать, что пользователь успешно закончил курс, если он правильно решил больше 40 практических заданий.\n",
    "\n",
    "В данных:\n",
    "\n",
    "    submission_data_test.csv https://stepik.org/media/attachments/course/4852/submission_data_test.csv\n",
    "    events_data_test.csv https://stepik.org/media/attachments/course/4852/events_data_test.csv\n",
    "хранится информация о решениях и действиях для 6184 студентов за первые два дня прохождения курса. Это 6184 студентов, которые проходили курс в период с мая 2018 по январь 2019. \n",
    "Подробное описание переменных смотри в этом шаге.  https://stepik.org/lesson/222124/step/3?unit=195045\n",
    "\n",
    "Используя данные о первых двух днях активности на курсе вам нужно предсказать, наберет ли пользователь более 40 баллов на курсе или нет.\n",
    "\n",
    "В этих данных, вам доступны только первые дня активности студентов для того, чтобы сделать предсказание. На самом деле, используя эти данные, вы уже можете сделать прогноз. Например, если пользователь за первые два дня набрал 40 баллов, скорее всего он наберет более 40 баллов в дальнейшем. Чтобы подкрепить такие гипотезы,\n",
    "вы можете использовать данные, http://stepik.org/lesson/222124/step/3?unit=195045\n",
    "на которые мы исследовали в первых двух модулях курса, где для всех пользователей представлены все данные об их активности на курсе. "
   ]
  },
  {
   "cell_type": "markdown",
   "metadata": {},
   "source": [
    "#### Итогом вашей работы должен стать csv файл c предсказанием для каждого студента из тестовых данных. Пример предсказания выглядит следующим образом. https://stepik.org/media/attachments/course/4852/submission_example.csv"
   ]
  },
  {
   "cell_type": "markdown",
   "metadata": {},
   "source": [
    "#### ЭТО 3 Е МЕСТО"
   ]
  },
  {
   "cell_type": "code",
   "execution_count": null,
   "metadata": {},
   "outputs": [],
   "source": [
    "Описание\n",
    "Здесь представлена модель для соревнования, который дается в конце курса \"Введение в Data Science и машинное обучение\" на stepic.\n",
    "\n",
    "ROC score на сабмите 0.8933. Занял 3 место.\n",
    "\n",
    "Использованы признаки модели model-auto_features.ipynb и признаки сгенерированные вручную(совсем немного).\n",
    "\n",
    "Импорт\n",
    "%load_ext autoreload\n",
    "%autoreload 2\n",
    "\n",
    "import sys\n",
    "import os\n",
    "\n",
    "import pandas as pd\n",
    "import numpy as np\n",
    "import matplotlib.pyplot as plt\n",
    "%matplotlib inline\n",
    "\n",
    "from tqdm import tqdm, tqdm_notebook\n",
    "import datetime\n",
    "\n",
    "from sklearn.ensemble import RandomForestClassifier\n",
    "from sklearn.model_selection import train_test_split, cross_val_score\n",
    "from sklearn.metrics import classification_report, roc_auc_score, confusion_matrix\n",
    "from sklearn.externals import joblib\n",
    "\n",
    "sys.path.append(os.path.join(sys.path[0], '../'))\n",
    "\n",
    "import libs.config as conf\n",
    "import libs.data_helpers as dh\n",
    "import libs.data_iter_final as di\n",
    "import libs.utils.model_utils as mu\n",
    "import libs.submit_report as rep\n",
    "\n",
    "from IPython.core.interactiveshell import InteractiveShell\n",
    "InteractiveShell.ast_node_interactivity = \"all\"\n",
    "/home/jupyter/ve/lib/python3.6/site-packages/sklearn/externals/joblib/__init__.py:15: DeprecationWarning: sklearn.externals.joblib is deprecated in 0.21 and will be removed in 0.23. Please import this functionality directly from joblib, which can be installed with: pip install joblib. If this warning is raised when loading pickled models, you may need to re-serialize those models with scikit-learn 0.21+.\n",
    "  warnings.warn(msg, category=DeprecationWarning)\n",
    "Загрузка и подготовка данных\n",
    "# загрузка данных\n",
    "events  = pd.read_csv(f\"{conf.DATA_DIR}/event_data_train.zip\")\n",
    "submissions = pd.read_csv(f\"{conf.DATA_DIR}/submissions_data_train.zip\")\n",
    "\n",
    "# генерация признаков\n",
    "X_cv, y_cv = di.get_x_y(events, submissions)\n",
    "print ('X_cv shape', X_cv.shape)\n",
    "y_cv.value_counts(dropna=False)\n",
    "/home/jupyter/ve/lib/python3.6/site-packages/ipykernel_launcher.py:6: DtypeWarning: Columns (231,232) have mixed types. Specify dtype option on import or set low_memory=False.\n",
    "  \n",
    "/home/jupyter/ve/lib/python3.6/site-packages/ipykernel_launcher.py:6: DtypeWarning: Columns (413) have mixed types. Specify dtype option on import or set low_memory=False.\n",
    "  \n",
    "X_cv shape (19234, 387)\n",
    "False    17266\n",
    "True      1968\n",
    "Name: is_gone, dtype: int64\n",
    "# разделение данных для обучения на train и test\n",
    "X_train, X_test, y_train, y_test = train_test_split(X_cv, y_cv, test_size=0.2, stratify=y_cv)\n",
    "print ('X_train shape', X_train.shape)\n",
    "y_train.value_counts(dropna=False)\n",
    "X_train shape (15387, 387)\n",
    "False    13813\n",
    "True      1574\n",
    "Name: is_gone, dtype: int64\n",
    "Обучение и проверка модели\n",
    "RandomForest\n",
    "rf = RandomForestClassifier(n_estimators=100, n_jobs=2, \n",
    "                            min_samples_leaf=10, min_samples_split=10, \n",
    "                            class_weight='balanced')\n",
    "\n",
    "rf.fit(X_train, y_train)\n",
    "pred_proba = rf.predict_proba(X_test)\n",
    "roc_score = roc_auc_score(y_test, pred_proba[:, 1])\n",
    "print('roc на test', roc_score)\n",
    "# должны получить на тест roc 0.907  +- 0.02\n",
    "RandomForestClassifier(bootstrap=True, class_weight='balanced',\n",
    "                       criterion='gini', max_depth=None, max_features='auto',\n",
    "                       max_leaf_nodes=None, min_impurity_decrease=0.0,\n",
    "                       min_impurity_split=None, min_samples_leaf=10,\n",
    "                       min_samples_split=10, min_weight_fraction_leaf=0.0,\n",
    "                       n_estimators=100, n_jobs=2, oob_score=False,\n",
    "                       random_state=None, verbose=0, warm_start=False)\n",
    "roc на test 0.9043574262651032\n",
    "# важность фич\n",
    "fimp = mu.get_feature_importances_df(rf.feature_importances_, X_train.columns)\n",
    "fimp.head(15)\n",
    "weight\n",
    "correct_rat_discovered\t0.044796\n",
    "correct_rat_passed\t0.041764\n",
    "correct__mean\t0.041464\n",
    "correct_rat_day\t0.032540\n",
    "correct_rat_started_attempt\t0.031382\n",
    "correct_rat_viewed\t0.028542\n",
    "correct__length\t0.024345\n",
    "viewed__length\t0.021888\n",
    "viewed__variance\t0.020518\n",
    "discovered__length\t0.018706\n",
    "correct__variance\t0.017997\n",
    "PERCENT_TRUE(events.steps.step_actions.submit_# WHERE action = passed)\t0.014897\n",
    "correct__maximum\t0.011982\n",
    "viewed__mean\t0.010434\n",
    "correct_rat_attempts\t0.010269\n",
    "кроссвалидация\n",
    "# значение к метрике на кроссвалидации коррелирует к метрике на степике\n",
    "\n",
    "rfcv = RandomForestClassifier(**rf.get_params())\n",
    "\n",
    "cv_scores = cross_val_score(rfcv, X_cv, y_cv, scoring='roc_auc', cv=10, n_jobs=-1)\n",
    "mean_cv_scores = np.mean(cv_scores)\n",
    "print ('mean score', mean_cv_scores)\n",
    "# должны получить срдений score 0.902 +- 0.01\n",
    "mean score 0.9032016905897304\n",
    "Сохранение модели\n",
    "# сохранить модель\n",
    "!mkdir $conf.BIN_MODELS_DIR\n",
    "model_fname = f\"{conf.BIN_MODELS_DIR}/final_model.bin\"\n",
    "joblib.dump(rf, model_fname)\n",
    "\n",
    "# загрузка модели\n",
    "# rf = joblib.load(model_fname)\n",
    "mkdir: cannot create directory ‘../bin_models’: File exists\n",
    "['../bin_models/final_model.bin']\n",
    "Сделать предсказание по сабмиту\n",
    "SUBMIT_NUM = 9\n",
    "\n",
    "events_pred  = pd.read_csv(f\"{conf.DATA_DIR}/events_data_test.zip\")\n",
    "submissions_pred = pd.read_csv(f\"{conf.DATA_DIR}/submission_data_test.zip\")\n",
    "X_pred , _ = di.get_x_y(events_pred, submissions_pred)\n",
    "\n",
    "pred_proba = rf.predict_proba(X_pred)[:, 1]\n",
    "rep_df = rep.create_report(X_pred.index, pred_proba)\n",
    "assert rep_df.user_id.nunique() == X_pred.index.nunique()\n",
    "print ('Прогноз сохранен в файл ', rep.save_report(rep_df, SUBMIT_NUM))\n",
    "\n",
    "print ('Распределение \"вероятностей\" модели')\n",
    "pd.cut(pred_proba, 10).value_counts()\n",
    "/home/jupyter/ve/lib/python3.6/site-packages/ipykernel_launcher.py:5: DtypeWarning: Columns (231,232) have mixed types. Specify dtype option on import or set low_memory=False.\n",
    "  \"\"\"\n",
    "/home/jupyter/ve/lib/python3.6/site-packages/ipykernel_launcher.py:5: DtypeWarning: Columns (413) have mixed types. Specify dtype option on import or set low_memory=False.\n",
    "  \"\"\"\n",
    "Прогноз сохранен в файл  ../reports/predict_2019-06-06_submit_9.csv\n",
    "Распределение \"вероятностей\" модели\n",
    "(0.00729, 0.104]    3451\n",
    "(0.104, 0.2]         311\n",
    "(0.2, 0.296]         682\n",
    "(0.296, 0.392]       636\n",
    "(0.392, 0.488]       362\n",
    "(0.488, 0.584]       229\n",
    "(0.584, 0.68]        172\n",
    "(0.68, 0.776]        150\n",
    "(0.776, 0.872]       114\n",
    "(0.872, 0.968]        77\n",
    "dtype: int64"
   ]
  },
  {
   "cell_type": "markdown",
   "metadata": {},
   "source": [
    "# Обработайте индивидуальный набор данных за отведённое время"
   ]
  },
  {
   "cell_type": "code",
   "execution_count": null,
   "metadata": {},
   "outputs": [],
   "source": [
    "dataset_226979_2.txt"
   ]
  },
  {
   "cell_type": "code",
   "execution_count": null,
   "metadata": {},
   "outputs": [],
   "source": [
    "https://stepik.org/media/attachments/course/4852/events_data_test.csv\n",
    "https://stepik.org/media/attachments/course/4852/submission_data_test.csv\n"
   ]
  },
  {
   "cell_type": "code",
   "execution_count": 1,
   "metadata": {},
   "outputs": [],
   "source": [
    "import pandas as pd"
   ]
  },
  {
   "cell_type": "code",
   "execution_count": 2,
   "metadata": {},
   "outputs": [],
   "source": [
    "data = pd.read_csv('dataset_226979_2.txt')"
   ]
  },
  {
   "cell_type": "code",
   "execution_count": 3,
   "metadata": {},
   "outputs": [
    {
     "data": {
      "text/html": [
       "<div>\n",
       "<style scoped>\n",
       "    .dataframe tbody tr th:only-of-type {\n",
       "        vertical-align: middle;\n",
       "    }\n",
       "\n",
       "    .dataframe tbody tr th {\n",
       "        vertical-align: top;\n",
       "    }\n",
       "\n",
       "    .dataframe thead th {\n",
       "        text-align: right;\n",
       "    }\n",
       "</style>\n",
       "<table border=\"1\" class=\"dataframe\">\n",
       "  <thead>\n",
       "    <tr style=\"text-align: right;\">\n",
       "      <th></th>\n",
       "      <th>https://stepik.org/media/attachments/course/4852/events_data_test.csv</th>\n",
       "    </tr>\n",
       "  </thead>\n",
       "  <tbody>\n",
       "    <tr>\n",
       "      <th>0</th>\n",
       "      <td>https://stepik.org/media/attachments/course/48...</td>\n",
       "    </tr>\n",
       "  </tbody>\n",
       "</table>\n",
       "</div>"
      ],
      "text/plain": [
       "  https://stepik.org/media/attachments/course/4852/events_data_test.csv\n",
       "0  https://stepik.org/media/attachments/course/48...                   "
      ]
     },
     "execution_count": 3,
     "metadata": {},
     "output_type": "execute_result"
    }
   ],
   "source": [
    "data"
   ]
  }
 ],
 "metadata": {
  "kernelspec": {
   "display_name": "Python 3",
   "language": "python",
   "name": "python3"
  },
  "language_info": {
   "codemirror_mode": {
    "name": "ipython",
    "version": 3
   },
   "file_extension": ".py",
   "mimetype": "text/x-python",
   "name": "python",
   "nbconvert_exporter": "python",
   "pygments_lexer": "ipython3",
   "version": "3.7.3"
  }
 },
 "nbformat": 4,
 "nbformat_minor": 4
}
